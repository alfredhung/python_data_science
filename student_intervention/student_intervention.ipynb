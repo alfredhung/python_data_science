{
 "cells": [
  {
   "cell_type": "markdown",
   "metadata": {},
   "source": [
    "# Project : Building a Student Intervention System\n",
    "## Alfred K. Hung\n",
    "## November 2016"
   ]
  },
  {
   "cell_type": "markdown",
   "metadata": {},
   "source": [
    "## Overview\n",
    "As education has grown to rely more on technology, vast amounts of data has become available for examination and prediction. Logs of student activities, grades, interactions with teachers and fellow students, and more, are now captured in real time through learning management systems like Canvas and Edmodo. This is especially true for online classrooms, which are becoming popular even at the primary and secondary school level. Within all levels of education, there exists a push to help increase the likelihood of student success, without watering down the education or engaging in behaviors that fail to improve the underlying issues. Graduation rates are often the criteria of choice, and educators seek new ways to predict the success and failure of students early enough to stage effective interventions.\n",
    "\n",
    "## Introduction\n",
    "A local school district has a goal to reach a 95% graduation rate by the end of the decade by identifying students who need intervention before they drop out of school. The goal of this project is to model the factors that predict how likely a student is to pass their high school final exam by constructing an intervention system that leverages supervised learning techniques. The board of supervisors requests that the most effective model uses the least amount of computation costs to save on the budget. We'll analyze the dataset on students' performance and develop a model that will predict the likelihood that a given student will pass, quantifying whether an intervention is necessary."
   ]
  },
  {
   "cell_type": "markdown",
   "metadata": {},
   "source": [
    "This is a supervised learning classification problem. It's a binary outcome of whether a student needs early intervention or not. It predicts a discrete, categorical label not a continuous value. Separating students who need early intervention or not is about defining a decision boundary rather than a best fit line (regression) that holds continuous numbers."
   ]
  },
  {
   "cell_type": "markdown",
   "metadata": {},
   "source": [
    "## Data Exploration\n",
    "The last column from this dataset, `'passed'`, will be our target label (whether the student graduated or didn't graduate). All other columns are features about each student."
   ]
  },
  {
   "cell_type": "code",
   "execution_count": 1,
   "metadata": {},
   "outputs": [
    {
     "name": "stdout",
     "output_type": "stream",
     "text": [
      "Student data read successfully!\n"
     ]
    }
   ],
   "source": [
    "# Import libraries\n",
    "import numpy as np\n",
    "import pandas as pd\n",
    "from time import time\n",
    "from sklearn.metrics import f1_score\n",
    "import seaborn as sns\n",
    "import matplotlib.pyplot as plt\n",
    "%matplotlib inline\n",
    "\n",
    "# Read student data\n",
    "student_data = pd.read_csv(\"student-data.csv\")\n",
    "print \"Student data read successfully!\""
   ]
  },
  {
   "cell_type": "markdown",
   "metadata": {},
   "source": [
    "### Descriptive Statistics\n",
    "We'll investigate the dataset to determine how many students we have information on, and learn about the graduation rate among these students."
   ]
  },
  {
   "cell_type": "code",
   "execution_count": 2,
   "metadata": {},
   "outputs": [
    {
     "name": "stdout",
     "output_type": "stream",
     "text": [
      "Total number of students: 395\n",
      "Number of features: 30\n",
      "Number of students who passed: 265\n",
      "Number of students who failed: 130\n",
      "Graduation rate of the class: 67.09%\n"
     ]
    }
   ],
   "source": [
    "# Calculate number of students\n",
    "n_students = student_data.shape[0]\n",
    "\n",
    "# Calculate number of features\n",
    "n_features = student_data.shape[1]-1\n",
    "\n",
    "# Calculate passing students\n",
    "n_passed = len(student_data[student_data['passed']=='yes'])\n",
    "\n",
    "# Calculate failing students\n",
    "n_failed = n_students - n_passed\n",
    "\n",
    "# Calculate graduation rate\n",
    "grad_rate = n_passed * 100. / n_students\n",
    "\n",
    "# Print the results\n",
    "print \"Total number of students: {}\".format(n_students)\n",
    "print \"Number of features: {}\".format(n_features)\n",
    "print \"Number of students who passed: {}\".format(n_passed)\n",
    "print \"Number of students who failed: {}\".format(n_failed)\n",
    "print \"Graduation rate of the class: {:.2f}%\".format(grad_rate)"
   ]
  },
  {
   "cell_type": "markdown",
   "metadata": {},
   "source": [
    "## Data Visualization"
   ]
  },
  {
   "cell_type": "code",
   "execution_count": 16,
   "metadata": {},
   "outputs": [
    {
     "data": {
      "image/png": "[encoded data removed]",
      "text/plain": [
       "<matplotlib.figure.Figure at 0x123da748>"
      ]
     },
     "metadata": {},
     "output_type": "display_data"
    }
   ],
   "source": [
    "# On exploring the data set further, we see that for the first three plots 'age', 'failures' and 'higher' show feature boundary values that indicate when a student needs early intervention \n",
    "\n",
    "# Plot 1: Student count by Sex of those who Passed/Didn't Pass according to their Age\n",
    "g = sns.factorplot(x=\"sex\", col=\"age\", hue=\"passed\", col_wrap=4, data=student_data, kind=\"count\", size=3.0, aspect=0.8)"
   ]
  },
  {
   "cell_type": "markdown",
   "metadata": {},
   "source": [
    "The previous plot shows that as students become 19 and older they struggle to pass the high school final exam and once they get to be 21 or 22 their chances of passing are null."
   ]
  },
  {
   "cell_type": "code",
   "execution_count": 17,
   "metadata": {},
   "outputs": [
    {
     "data": {
      "image/png": "[encoded data removed]",
      "text/plain": [
       "<matplotlib.figure.Figure at 0x1175d8d0>"
      ]
     },
     "metadata": {},
     "output_type": "display_data"
    }
   ],
   "source": [
    "# Plot2: Student count by Sex of those who Passed/Didn't Pass according to their number of past class failures\n",
    "g = sns.factorplot(x=\"sex\", col=\"failures\", hue=\"passed\", col_wrap=4, data=student_data, kind=\"count\", size=3.0, aspect=0.8)"
   ]
  },
  {
   "cell_type": "markdown",
   "metadata": {},
   "source": [
    "In Plot 2, we observe that students have a high chance of passing if they haven't had a past class failure.  However, as they start having failures and these accumulate their chances decrease significantly."
   ]
  },
  {
   "cell_type": "code",
   "execution_count": 2,
   "metadata": {},
   "outputs": [
    {
     "data": {
      "image/png": "[encoded data removed]",
      "text/plain": [
       "<matplotlib.figure.Figure at 0xbee88d0>"
      ]
     },
     "metadata": {},
     "output_type": "display_data"
    }
   ],
   "source": [
    "# Plot 3: Student count by Sex of those who Passed/Didn't Pass according to their interest to take higher education\n",
    "g = sns.factorplot(x=\"sex\", col=\"higher\", hue=\"passed\", col_wrap=2, data=student_data, kind=\"count\", size=3.0"
   ]
  },
  {
   "cell_type": "markdown",
   "metadata": {},
   "source": [
    "In Plot 3, students who expressed an interest to pursue higher education have a much higher chance of passing than those who don't."
   ]
  },
  {
   "cell_type": "code",
   "execution_count": 18,
   "metadata": {},
   "outputs": [
    {
     "data": {
      "image/png": "[encoded data removed]",
      "text/plain": [
       "<matplotlib.figure.Figure at 0x12715400>"
      ]
     },
     "metadata": {},
     "output_type": "display_data"
    }
   ],
   "source": [
    "# The following five plots show trends in feature values.\n",
    "\n",
    "# Plot 4: Student count by Sex of those who Passed/Didn't Pass according to their quality of family relationships (1:very bad, 5:excellent)\n",
    "g = sns.factorplot(x=\"sex\", col=\"famrel\", hue=\"passed\", col_wrap=5, data=student_data, kind=\"count\", size=3.0, aspect=0.8)"
   ]
  },
  {
   "cell_type": "markdown",
   "metadata": {},
   "source": [
    "In Plot 4, the graphs show that students whose family relationships are of less quality struggle more to pass as evidenced by the spread between the 'passed' the 'no-passed' bars"
   ]
  },
  {
   "cell_type": "code",
   "execution_count": 19,
   "metadata": {},
   "outputs": [
    {
     "data": {
      "image/png": "[encoded data removed]",
      "text/plain": [
       "<matplotlib.figure.Figure at 0x12192a58>"
      ]
     },
     "metadata": {},
     "output_type": "display_data"
    }
   ],
   "source": [
    "# Plot 5: Student count by Sex of those who Passed/Didn't Pass according to their home to school travel time (1:<15 min, 2:15-30 min, 3:0.5-1 hour, 4:>1 hour)\n",
    "g = sns.factorplot(x=\"sex\", col=\"traveltime\", hue=\"passed\", col_wrap=4, data=student_data, kind=\"count\", size=3.0, aspect=0.8)"
   ]
  },
  {
   "cell_type": "markdown",
   "metadata": {},
   "source": [
    "In Plot 5, the data shows that as travel time increases students struggle to pass as evidenced by the spread between the 'passed' and the 'no-passed' bars."
   ]
  },
  {
   "cell_type": "code",
   "execution_count": 21,
   "metadata": {},
   "outputs": [
    {
     "data": {
      "image/png": "[encoded data removed]",
      "text/plain": [
       "<matplotlib.figure.Figure at 0x11f05198>"
      ]
     },
     "metadata": {},
     "output_type": "display_data"
    }
   ],
   "source": [
    "# Plot 6: Student count by Sex of those who Passed/Didn't Pass according to their school \n",
    "g = sns.factorplot(x=\"sex\", col=\"school\", hue=\"passed\", col_wrap=2, data=student_data, kind=\"count\", size=3.0, aspect=0.8)"
   ]
  },
  {
   "cell_type": "markdown",
   "metadata": {},
   "source": [
    "Plot 6 shows that students who attend the 'GP' school have a higher chance of passing than those who attend the 'MS' school, as evidenced by the spread of the 'passed' and the 'no-passed' bars."
   ]
  },
  {
   "cell_type": "code",
   "execution_count": 24,
   "metadata": {},
   "outputs": [
    {
     "data": {
      "image/png": "[encoded data removed]",
      "text/plain": [
       "<matplotlib.figure.Figure at 0xd19ce48>"
      ]
     },
     "metadata": {},
     "output_type": "display_data"
    }
   ],
   "source": [
    "# Plot 7: Student count by Sex of those who Passed/Didn't Pass according to their Guardian\n",
    "g = sns.factorplot(x=\"sex\", col=\"guardian\", hue=\"passed\", col_wrap=3, data=student_data, kind=\"count\", size=3.0, aspect=0.8)"
   ]
  },
  {
   "cell_type": "markdown",
   "metadata": {},
   "source": [
    "Plot 7 shows that students whose guardian is their mother or father have a higher chance of passing while those whose guardian is 'other' have a harder time.  "
   ]
  },
  {
   "cell_type": "code",
   "execution_count": 4,
   "metadata": {},
   "outputs": [
    {
     "data": {
      "image/png": "[encoded data removed]",
      "text/plain": [
       "<matplotlib.figure.Figure at 0xcec65f8>"
      ]
     },
     "metadata": {},
     "output_type": "display_data"
    }
   ],
   "source": [
    "# Plot 8  Student count by Sex of those who Passed/Didn't Pass according to how much they go out with friends (1:very low, 5:very high)\n",
    "g = sns.factorplot(x=\"sex\", col=\"goout\", hue=\"passed\", col_wrap=5, data=student_data, kind=\"count\", size=3.0, aspect=0.8)"
   ]
  },
  {
   "cell_type": "markdown",
   "metadata": {},
   "source": [
    "Plot 8 shows that relationship and bonding with classmates have an influence on students' success.  Their chances of passing are greatest when their time spent with friends are 2 or 3 but become harder at 4, 1, or 5 (in that order)."
   ]
  },
  {
   "cell_type": "markdown",
   "metadata": {},
   "source": [
    "## Data Preparation\n",
    "In this section, we will prepare the data for modeling, training and testing. First we separate the student data into feature and target columns then we check if any features are non-numeric."
   ]
  },
  {
   "cell_type": "code",
   "execution_count": 4,
   "metadata": {},
   "outputs": [
    {
     "name": "stdout",
     "output_type": "stream",
     "text": [
      "Feature columns:\n",
      "['school', 'sex', 'age', 'address', 'famsize', 'Pstatus', 'Medu', 'Fedu', 'Mjob', 'Fjob', 'reason', 'guardian', 'traveltime', 'studytime', 'failures', 'schoolsup', 'famsup', 'paid', 'activities', 'nursery', 'higher', 'internet', 'romantic', 'famrel', 'freetime', 'goout', 'Dalc', 'Walc', 'health', 'absences']\n",
      "\n",
      "Target column: passed\n",
      "\n",
      "Feature values:\n",
      "  school sex  age address famsize Pstatus  Medu  Fedu     Mjob      Fjob  \\\n",
      "0     GP   F   18       U     GT3       A     4     4  at_home   teacher   \n",
      "1     GP   F   17       U     GT3       T     1     1  at_home     other   \n",
      "2     GP   F   15       U     LE3       T     1     1  at_home     other   \n",
      "3     GP   F   15       U     GT3       T     4     2   health  services   \n",
      "4     GP   F   16       U     GT3       T     3     3    other     other   \n",
      "\n",
      "    ...    higher internet  romantic  famrel  freetime goout Dalc Walc health  \\\n",
      "0   ...       yes       no        no       4         3     4    1    1      3   \n",
      "1   ...       yes      yes        no       5         3     3    1    1      3   \n",
      "2   ...       yes      yes        no       4         3     2    2    3      3   \n",
      "3   ...       yes      yes       yes       3         2     2    1    1      5   \n",
      "4   ...       yes       no        no       4         3     2    1    2      5   \n",
      "\n",
      "  absences  \n",
      "0        6  \n",
      "1        4  \n",
      "2       10  \n",
      "3        2  \n",
      "4        4  \n",
      "\n",
      "[5 rows x 30 columns]\n"
     ]
    }
   ],
   "source": [
    "# Extract feature columns\n",
    "feature_cols = list(student_data.columns[:-1])\n",
    "\n",
    "# Extract target column 'passed'\n",
    "target_col = student_data.columns[-1] \n",
    "\n",
    "# Show the list of columns\n",
    "print \"Feature columns:\\n{}\".format(feature_cols)\n",
    "print \"\\nTarget column: {}\".format(target_col)\n",
    "\n",
    "# Separate the data into feature data and target data\n",
    "X_all = student_data[feature_cols]\n",
    "y_all = student_data[target_col]\n",
    "\n",
    "# Show the feature information by printing the first five rows\n",
    "print \"\\nFeature values:\"\n",
    "print X_all.head()"
   ]
  },
  {
   "cell_type": "markdown",
   "metadata": {},
   "source": [
    "### Preprocess Feature Columns\n",
    "\n",
    "There are several non-numeric columns that need to be converted. Many of them are simply `yes`/`no`, e.g. `internet`. These can be reasonably converted into `1`/`0` (binary) values.\n",
    "\n",
    "Other categorical columns, like `Mjob` and `Fjob`, have more than two values which we'll create as many columns as possible values (e.g. `Fjob_teacher`, `Fjob_other`, `Fjob_services`, etc.), and assign a `1` to one of them and `0` to all others."
   ]
  },
  {
   "cell_type": "code",
   "execution_count": 5,
   "metadata": {},
   "outputs": [
    {
     "name": "stdout",
     "output_type": "stream",
     "text": [
      "Processed feature columns (48 total features):\n",
      "['school_GP', 'school_MS', 'sex_F', 'sex_M', 'age', 'address_R', 'address_U', 'famsize_GT3', 'famsize_LE3', 'Pstatus_A', 'Pstatus_T', 'Medu', 'Fedu', 'Mjob_at_home', 'Mjob_health', 'Mjob_other', 'Mjob_services', 'Mjob_teacher', 'Fjob_at_home', 'Fjob_health', 'Fjob_other', 'Fjob_services', 'Fjob_teacher', 'reason_course', 'reason_home', 'reason_other', 'reason_reputation', 'guardian_father', 'guardian_mother', 'guardian_other', 'traveltime', 'studytime', 'failures', 'schoolsup', 'famsup', 'paid', 'activities', 'nursery', 'higher', 'internet', 'romantic', 'famrel', 'freetime', 'goout', 'Dalc', 'Walc', 'health', 'absences']\n"
     ]
    }
   ],
   "source": [
    "def preprocess_features(X):\n",
    "    ''' Preprocesses the student data and converts non-numeric binary variables into\n",
    "        binary (0/1) variables. Converts categorical variables into dummy variables. '''\n",
    "    \n",
    "    # Initialize new output DataFrame\n",
    "    output = pd.DataFrame(index = X.index)\n",
    "\n",
    "    # Investigate each feature column for the data\n",
    "    for col, col_data in X.iteritems():\n",
    "        \n",
    "        # If data type is non-numeric, replace all yes/no values with 1/0\n",
    "        if col_data.dtype == object:\n",
    "            col_data = col_data.replace(['yes', 'no'], [1, 0])\n",
    "\n",
    "        # If data type is categorical, convert to dummy variables\n",
    "        if col_data.dtype == object:\n",
    "            # Example: 'school' => 'school_GP' and 'school_MS'\n",
    "            col_data = pd.get_dummies(col_data, prefix = col)  \n",
    "        \n",
    "        # Collect the revised columns\n",
    "        output = output.join(col_data)\n",
    "    \n",
    "    return output\n",
    "\n",
    "X_all = preprocess_features(X_all)\n",
    "print \"Processed feature columns ({} total features):\\n{}\".format(len(X_all.columns), list(X_all.columns))"
   ]
  },
  {
   "cell_type": "markdown",
   "metadata": {},
   "source": [
    "### Training and Testing Data Split\n",
    "We split the data (both features and corresponding labels) into training and test sets."
   ]
  },
  {
   "cell_type": "code",
   "execution_count": 6,
   "metadata": {},
   "outputs": [
    {
     "name": "stdout",
     "output_type": "stream",
     "text": [
      "Training set has 300 samples.\n",
      "Testing set has 95 samples.\n"
     ]
    }
   ],
   "source": [
    "# Import additional functionality\n",
    "from sklearn.cross_validation import StratifiedShuffleSplit\n",
    "# TODO: Set the number of training points\n",
    "num_train = 300\n",
    "\n",
    "# Set the number of testing points\n",
    "num_test = X_all.shape[0] - num_train\n",
    "\n",
    "# Shuffle and split the dataset into the number of training and testing points\n",
    "rs = 70\n",
    "sss = StratifiedShuffleSplit(y_all, n_iter=1, test_size=num_test, random_state=rs)\n",
    "for train_index, test_index in sss:\n",
    "    X_train, X_test = X_all.ix[train_index], X_all.ix[test_index]\n",
    "    y_train, y_test = y_all.ix[train_index], y_all.ix[test_index]\n",
    "\n",
    "# Show the results of the split\n",
    "print \"Training set has {} samples.\".format(X_train.shape[0])\n",
    "print \"Testing set has {} samples.\".format(X_test.shape[0])"
   ]
  },
  {
   "cell_type": "markdown",
   "metadata": {},
   "source": [
    "## Training and Evaluating Models\n",
    "In this section, we will evaluate 3 supervised learning models that are appropriate for the data and discuss each model's strengths and weaknesses. Then we'll fit the model to varying sizes of training data (100 data points, 200 data points, and 300 data points) and measure the F<sub>1</sub> score. We'll produce three tables, one for each model, that shows the training set size, training time, prediction time, F<sub>1</sub> score on the training set, and F<sub>1</sub> score on the testing set."
   ]
  },
  {
   "cell_type": "markdown",
   "metadata": {},
   "source": [
    "### Model Comparison and Analysis"
   ]
  },
  {
   "cell_type": "markdown",
   "metadata": {},
   "source": [
    "a) Three supervised learning models that are appropriate for this problem:\n",
    "\n",
    "- Gaussian Naive Bayes (GaussianNB) \n",
    "- Support Vector Machines (SVM)\n",
    "- Logistic Regression\n",
    "\n",
    "b) Real-world application in industry where the model can be applied:\n",
    "\n",
    "- Gaussian Naive Bayes (GaussianNB) : Classification of documents according to subject, author or type for use in a library. \n",
    "Reference: https://en.wikipedia.org/wiki/Document_classification\n",
    "\n",
    "- Support Vector Machines (SVM) : Text categorization for social media. Using SVM, documents can be classified into a fixed number of predefined categories, for example, type of news stories and information search on the internet. \n",
    "Reference: http://www.cs.cornell.edu/people/tj/publications/joachims_98a.pdf\n",
    "\n",
    "- Logistic Regression : Win/Lose outcome of a political election. With logistic regression, the feature variables are linear predictors of the target variable.  The target output is a binary Win or Lose which depend upon the combination of independent feature variables such as the amount of money spent on the campaign, the amount of time spent campaigning negatively and whether or not the candidate is an incumbent. \n",
    "Reference: http://www.ats.ucla.edu/stat/stata/dae/logit.htm\n",
    "\n",
    "c)   Strengths of each model:\n",
    "\n",
    "**Gaussian Naive Bayes (GaussianNB) **\n",
    "- It's fast to train and to classify\n",
    "- It's not sensitive to irrelevant features\n",
    "- It handles real and discrete data well\n",
    "- It only requires a small amount of training data to estimate the parameters necessary for classification\n",
    "- It works well with classes overlapping\n",
    "- It works even if there are clear known relationships between attributes\n",
    "\n",
    "**Support Vector Machines (SVM)**\n",
    "- It can create non-linear decision boundaries using the kernel trick\n",
    "- It works well with clear margins of separation. However, it is still useful for both linearly separable (hard margin) and non-linearly separable (soft margin) data by tweaking the C parameter.\n",
    "- It is effective in high dimensional spaces, even in cases where the number of dimensions is greater than the number of samples.\n",
    "- It is memory efficient by using a subset of training points in the decision function (support vectors)\n",
    "\n",
    "**Logistic Regression**\n",
    "- It's a fast algorithm\n",
    "- It does not need a linear relationship between the dependent and independent variables, however, it requires that the independent variables are linearly related to the log odds\n",
    "- It has low variance and less prone to overfitting\n",
    "- The independent variables do not need to be interval or ratio scaled\n",
    "- The dependent variable doesn’t need to be normally distributed\n",
    "- Independent variables don’t have to be normally distributed or have equal variance in each group\n",
    "- Independent features can be either continuous or categorical\n",
    "- There should be no high intercorrelations among the predictors\n",
    "- Output variable should have mutually exclusive and exhaustive categories\n",
    "- It works better if there's a single decision boundary\n",
    "\n",
    "d)   Weaknesses of each model:\n",
    "\n",
    "**Gaussian Naive Bayes (GaussianNB) **\n",
    "- It assumes independence of features\n",
    "- It may not work well if the decision boundary is not linear, not elliptic, not parabolic.\n",
    "- Naive Bayes cannot pick the best features\n",
    "- In classification tasks it's better to have a big data set in order to make reliable estimations of the probability of each class or precision and recall could be low\n",
    "- When there are no occurrences of a class label the frequency-based probability estimate will be zero\n",
    "\n",
    "**Support Vector Machines (SVM)**\n",
    "- It doesn’t perform well with large data sets because the required training time is higher\n",
    "- It doesn’t perform well with lots of noise, that is, when target classes are overlapping\n",
    "- SVM doesn’t directly provide probability estimates. These are calculated using five-fold cross-validation\n",
    "- It can overfit\n",
    "\n",
    "**Logistic Regression**\n",
    "- If the wrong independent variables are included in the model, it will have little to no predictive value\n",
    "- Logistic regression requires that each data point be independent of all other data points\n",
    "- The model can appear to have more predictive power than it actually does as a result of sampling bias\n",
    "- It requires a large sample size. Since Logistic Regression uses maximum likelihood estimate, the model needs at least 10 cases per independent variable\n",
    "\n",
    "e)Characteristics of the data:\n",
    "- This is an imbalanced data set since the number of students who passed (67%) is many more than the ones who didn't pass\n",
    "- The data set of 395 is less than 100,000 observations which makes it small for machine learning.  However, statistically speaking, a size above 30 is considered a good number and passes requirements for all three chosen classifiers \n",
    "- The training data size of 300 is large enough for the number of features (30 or 10%)\n",
    "- Of the 30 features, only two are continuous, ordinal ('age' and 'absences') while the rest are categorical\n",
    "- Some features seem to be irrelevant (eg. reason, famsize, romantic) at predicting passing the final exam\n",
    "- A few features seem to have a certain degree of correlation (eg. goout and freetime)\n",
    "- Little or no noise. Only feature with possible outliers is 'absences'\n",
    "- There seems to be a linear relationship between many independent variables (eg. travel time, quality of family relationship)and the outcome \n",
    "\n",
    "f) Appropriateness of each model for the problem:\n",
    "\n",
    "**Gaussian Naive Bayes (GaussianNB) **\n",
    "- It's a fast algorithm, as required by the school district\n",
    "- There are features that may be irrelevant (eg. parent's cohabitation status, family size) which NB can handle\n",
    "- It works with a small data set\n",
    "- It works even if features have some dependency\n",
    "- It's among the higher accuracy models (F1 = 0.7746, 100 data size)\n",
    "\n",
    "**Support Vector Machines (SVM)**\n",
    "- It's a fast algorithm with a small data set such as this one\n",
    "- It's a non-linear classifier appropriate for this high dimensional data set\n",
    "- It works well with little noise\n",
    "- It supports class weight for unbalanced data sets\n",
    "- It's easier to explain to the school board\n",
    "- It's among the higher accuracy models (F1 = 0.8108, 200 data size)\n",
    "\n",
    "**Logistic Regression**\n",
    "- There are some linear relationships between dependent and independent variables in this student data set\n",
    "- Independent features are either continuous or categorical\n",
    "- It's a fast algorithm\n",
    "- Each data point is independent of each other\n",
    "- It supports class weight for unbalanced data sets\n",
    "- It's easy to explain to the school board\n",
    "- It's among the higher accuracy models (F1 = 0.7794, 300 data size)"
   ]
  },
  {
   "cell_type": "markdown",
   "metadata": {},
   "source": [
    "### Setup of Training and Testing Functions\n",
    "We initialize three helper functions for training and testing the three supervised learning models:"
   ]
  },
  {
   "cell_type": "code",
   "execution_count": 7,
   "metadata": {},
   "outputs": [],
   "source": [
    "def train_classifier(clf, X_train, y_train):\n",
    "    ''' Fits a classifier to the training data. '''\n",
    "    \n",
    "    # Start the clock, train the classifier, then stop the clock\n",
    "    start = time()\n",
    "    clf.fit(X_train, y_train)\n",
    "    end = time()\n",
    "    \n",
    "    # Print the results\n",
    "    print \"Trained model in {:.4f} seconds\".format(end - start)\n",
    "\n",
    "    \n",
    "def predict_labels(clf, features, target):\n",
    "    ''' Makes predictions using a fit classifier based on F1 score. '''\n",
    "    \n",
    "    # Start the clock, make predictions, then stop the clock\n",
    "    start = time()\n",
    "    y_pred = clf.predict(features)\n",
    "    end = time()\n",
    "    \n",
    "    # Print and return results\n",
    "    print \"Made predictions in {:.4f} seconds.\".format(end - start)\n",
    "    return f1_score(target.values, y_pred, pos_label='yes')\n",
    "\n",
    "\n",
    "def train_predict(clf, X_train, y_train, X_test, y_test):\n",
    "    ''' Train and predict using a classifer based on F1 score. '''\n",
    "    \n",
    "    # Indicate the classifier and the training set size\n",
    "    print \"Training a {} using a training set size of {}. . .\".format(clf.__class__.__name__, len(X_train))\n",
    "    \n",
    "    # Train the classifier\n",
    "    train_classifier(clf, X_train, y_train)\n",
    "    \n",
    "    # Print the results of prediction for both training and testing\n",
    "    print \"F1 score for training set: {:.4f}.\".format(predict_labels(clf, X_train, y_train))\n",
    "    print \"F1 score for test set: {:.4f}.\".format(predict_labels(clf, X_test, y_test))"
   ]
  },
  {
   "cell_type": "markdown",
   "metadata": {},
   "source": [
    "### Model Performance Metrics\n",
    "We will train and predict on each classifier for three different training set sizes: 100, 200, and 300. Hence, we expect to have 9 different outputs below: 3 for each model using the varying training set sizes. "
   ]
  },
  {
   "cell_type": "code",
   "execution_count": 8,
   "metadata": {
    "scrolled": true
   },
   "outputs": [
    {
     "name": "stdout",
     "output_type": "stream",
     "text": [
      "\n",
      "GaussianNB: \n",
      "\n",
      "Training a GaussianNB using a training set size of 100. . .\n",
      "Trained model in 0.0010 seconds\n",
      "Made predictions in 0.0010 seconds.\n",
      "F1 score for training set: 0.8533.\n",
      "Made predictions in 0.0010 seconds.\n",
      "F1 score for test set: 0.7746.\n",
      "Training a GaussianNB using a training set size of 200. . .\n",
      "Trained model in 0.0010 seconds\n",
      "Made predictions in 0.0010 seconds.\n",
      "F1 score for training set: 0.8143.\n",
      "Made predictions in 0.0010 seconds.\n",
      "F1 score for test set: 0.7419.\n",
      "Training a GaussianNB using a training set size of 300. . .\n",
      "Trained model in 0.0010 seconds\n",
      "Made predictions in 0.0000 seconds.\n",
      "F1 score for training set: 0.8038.\n",
      "Made predictions in 0.0000 seconds.\n",
      "F1 score for test set: 0.7704.\n",
      "\n",
      "SVC: \n",
      "\n",
      "Training a SVC using a training set size of 100. . .\n",
      "Trained model in 0.0020 seconds\n",
      "Made predictions in 0.0010 seconds.\n",
      "F1 score for training set: 0.8428.\n",
      "Made predictions in 0.0000 seconds.\n",
      "F1 score for test set: 0.8050.\n",
      "Training a SVC using a training set size of 200. . .\n",
      "Trained model in 0.0050 seconds\n",
      "Made predictions in 0.0030 seconds.\n",
      "F1 score for training set: 0.8608.\n",
      "Made predictions in 0.0010 seconds.\n",
      "F1 score for test set: 0.8108.\n",
      "Training a SVC using a training set size of 300. . .\n",
      "Trained model in 0.0090 seconds\n",
      "Made predictions in 0.0060 seconds.\n",
      "F1 score for training set: 0.8615.\n",
      "Made predictions in 0.0020 seconds.\n",
      "F1 score for test set: 0.8105.\n",
      "\n",
      "LogisticRegression: \n",
      "\n",
      "Training a LogisticRegression using a training set size of 100. . .\n",
      "Trained model in 0.0030 seconds\n",
      "Made predictions in 0.0000 seconds.\n",
      "F1 score for training set: 0.8873.\n",
      "Made predictions in 0.0010 seconds.\n",
      "F1 score for test set: 0.6825.\n",
      "Training a LogisticRegression using a training set size of 200. . .\n",
      "Trained model in 0.0040 seconds\n",
      "Made predictions in 0.0250 seconds.\n",
      "F1 score for training set: 0.8467.\n",
      "Made predictions in 0.0010 seconds.\n",
      "F1 score for test set: 0.7481.\n",
      "Training a LogisticRegression using a training set size of 300. . .\n",
      "Trained model in 0.0050 seconds\n",
      "Made predictions in 0.0000 seconds.\n",
      "F1 score for training set: 0.8322.\n",
      "Made predictions in 0.0000 seconds.\n",
      "F1 score for test set: 0.7794.\n"
     ]
    }
   ],
   "source": [
    "# Import the three supervised learning models from sklearn\n",
    "from sklearn.naive_bayes import GaussianNB\n",
    "from sklearn.svm import SVC\n",
    "from sklearn.linear_model import LogisticRegression\n",
    "\n",
    "# Initialize the three models\n",
    "clf_A = GaussianNB()\n",
    "clf_B = SVC(random_state=rs)\n",
    "clf_C = LogisticRegression(random_state=rs)\n",
    "\n",
    "models = [clf_A, clf_B, clf_C]\n",
    "\n",
    "# Set up the training set sizes\n",
    "# Execute the 'train_predict' function for each classifier and each training set size\n",
    "# train_predict(clf, X_train, y_train, X_test, y_test)\n",
    "\n",
    "# Loop through the models then through the training set sizes\n",
    "for clf in models:\n",
    "    print \"\\n{}: \\n\".format(clf.__class__.__name__)\n",
    "    for n in [100, 200, 300]:\n",
    "        train_predict(clf, X_train[:n], y_train[:n], X_test, y_test)"
   ]
  },
  {
   "cell_type": "markdown",
   "metadata": {},
   "source": [
    "### Tabular Results"
   ]
  },
  {
   "cell_type": "markdown",
   "metadata": {},
   "source": [
    "** Classifer 1 - GaussianNB**  \n",
    "\n",
    "| Training Set Size |      Training Time      | Prediction Time (test) | F1 Score (train) | F1 Score (test) |\n",
    "| :---------------: | :---------------------: | :--------------------: | :--------------: | :-------------: |\n",
    "| 100               |        0.0000           |         0.0000         |     0.8533       |     0.7746      |\n",
    "| 200               |        0.0000           |         0.0000         |     0.8143       |     0.7419      |\n",
    "| 300               |        0.0000           |         0.0000         |     0.8038       |     0.7704      |\n",
    "\n",
    "** Classifer 2 - SVC**  \n",
    "\n",
    "| Training Set Size |      Training Time      | Prediction Time (test) | F1 Score (train) | F1 Score (test) |\n",
    "| :---------------: | :---------------------: | :--------------------: | :--------------: | :-------------: |\n",
    "| 100               |        0.0000           |         0.0000         |      0.8428      |     0.8050      |\n",
    "| 200               |        0.0000           |         0.0000         |      0.8608      |     0.8108      |\n",
    "| 300               |        0.0150           |         0.0160         |      0.8615      |     0.8105      |\n",
    "\n",
    "** Classifer 3 - LogisticRegression**  \n",
    "\n",
    "| Training Set Size |      Training Time      | Prediction Time (test) | F1 Score (train) | F1 Score (test) |\n",
    "| :---------------: | :---------------------: | :--------------------: | :--------------: | :-------------: |\n",
    "| 100               |        0.0000           |         0.0000         |      0.8873      |     0.6825      |\n",
    "| 200               |        0.0000           |         0.0000         |      0.8467      |     0.7481      |\n",
    "| 300               |        0.0160           |         0.0000         |      0.8322      |     0.7794      |"
   ]
  },
  {
   "cell_type": "markdown",
   "metadata": {},
   "source": [
    "## Best Model Analysis\n",
    "To choose the best model to use on the student data, we will perform a grid search optimization for the model over the entire training set (`X_train` and `y_train`) by tuning at least one parameter to improve upon the untuned model's F<sub>1</sub> score. "
   ]
  },
  {
   "cell_type": "markdown",
   "metadata": {},
   "source": [
    "Based on the experiments performed earlier, the most appropriate model based on the available data, limited resources, cost, and performance is Support Vector Classifier (SVC). \n",
    "\n",
    "Training and prediction times for all three models are very low and not a major consideration factor so the most important performance measure is the F1 Score (test) which helps assess future student's results and therefore assists in the achievement of a graduation rate of 95% in a decade.  SVC has the best F1 score (test) for all set sizes. Its F1 score (train) steadily improves as the train size increases while the F1 score (test) peaks at 0.8108 for a training size of 200. Without adjusting parameters, this should be the set size we should train our model.  The second best F1 score belongs to Logistic Regression (0.7794, size = 300) and afterwards to GaussianNB (0.7746, size=100). As we update SVC's training data set size in the future, training speed could go up a bit but these are one-time events which wouldn't take up much resources while prediction is going to the the most frequent task which for SVC will remain fast. \n",
    "\n",
    "SVC is the best model because it produces non-linear decision boundaries (higher accuracy), can handle high dimensional space (many features), uses little resources (CPU, memory, processing time, manpower) during training, is fast during prediction, and has high performance."
   ]
  },
  {
   "cell_type": "markdown",
   "metadata": {},
   "source": [
    "To illustrate how SVC works, let's look at the following example graph of a few data points with two outcomes: blue circles (doesn't need intervention) and red squares (needs intervention).  The algorithm finds a decision boundary (hyperplane) with enough margin so that it can confidently separate and classify the two group of students. This line sits right in the middle distance of the solid color circles and squares (support vectors) giving it the maximum margin between them. For more explanation please see the next section.\n",
    "(ref: http://docs.opencv.org/2.4/doc/tutorials/ml/introduction_to_svm/introduction_to_svm.html)"
   ]
  },
  {
   "cell_type": "markdown",
   "metadata": {},
   "source": [
    "![SVC graph:](optimal-hyperplane.png)"
   ]
  },
  {
   "cell_type": "markdown",
   "metadata": {},
   "source": [
    "### Best Model Explanation"
   ]
  },
  {
   "cell_type": "markdown",
   "metadata": {},
   "source": [
    "To do its classification, SVC works in two stages: first it creates the model by using 300 performance data from students then secondly it makes predictions of new students.  The model is trained by looking at 30 features of students who passed and those who didn't pass and discovering the key differences between them. Counter intuitively, it doesn't look at the examples of the best students and the worst students to tell those differences since they are clear-cut, instead, it looks at the borderline examples of what makes a passing student and a non-passing student.  These are the most tenuous cases but by being able to tell apart these less-clear cases we'll be able to understand the nuances and details of what makes a borderline student pass or not.  To draw that separating line, the model finds the widest difference between them, thus guaranteeing a higher classification accuracy. This \"line\" does not have to be straight but it can be curvy, that is, non-linear, allowing for flexibility in its drawing and more accurate data classification.  Even with large number of features, the model can make distinctions by elevating the number of dimensions (called the kernel trick) to separate the two groups as can be seen in the following graph: (ref: http://rvlasveld.github.io/blog/2013/07/12/introduction-to-one-class-support-vector-machines/)"
   ]
  },
  {
   "cell_type": "markdown",
   "metadata": {},
   "source": [
    "![alt text](https://rvlasveld.github.io/images/oc-svm/visualization.gif)"
   ]
  },
  {
   "cell_type": "markdown",
   "metadata": {},
   "source": [
    "To do a prediction, SVC uses this decision boundary which relies on the best borderline cases (called support vectors) to do a classification.  The new student who we wish to classify is placed in the context of this boundary and it's simply a matter of seeing which side of the dividing line the student is located.  It then labels the student if he/she needs intervention or not. The ease and simplicity of SVC's prediction are what makes this model fast and efficient. "
   ]
  },
  {
   "cell_type": "markdown",
   "metadata": {},
   "source": [
    "### Model Tuning\n",
    "To fine tune SVC, we use grid search with at least one important parameter tuned with at least 3 different values, using the entire training set for this. "
   ]
  },
  {
   "cell_type": "code",
   "execution_count": 9,
   "metadata": {},
   "outputs": [
    {
     "name": "stdout",
     "output_type": "stream",
     "text": [
      "Made predictions in 0.0060 seconds.\n",
      "Tuned model has a training F1 score of 0.8238.\n",
      "Made predictions in 0.0010 seconds.\n",
      "Tuned model has a testing F1 score of 0.8212.\n"
     ]
    }
   ],
   "source": [
    "# Import 'GridSearchCV' and 'make_scorer'\n",
    "from sklearn.grid_search import GridSearchCV\n",
    "from sklearn.metrics import make_scorer\n",
    "\n",
    "# Create the parameters list\n",
    "parameters = {'C': [1., 10., 100., 1000.], 'gamma': [0.001, 0.0001], 'kernel': ['rbf'], 'class_weight': [None, 'balanced']}\n",
    "\n",
    "# Initialize the classifier\n",
    "clf = SVC(random_state=rs)\n",
    "\n",
    "# Make an f1 scoring function using 'make_scorer' \n",
    "f1_scorer = make_scorer(f1_score, pos_label='yes')\n",
    "\n",
    "# Perform grid search on the classifier using the f1_scorer as the scoring method\n",
    "sss2 = StratifiedShuffleSplit(y_train, n_iter=10, test_size=0.25, random_state=rs)\n",
    "grid_obj = GridSearchCV(estimator=clf, param_grid=parameters, scoring=f1_scorer, cv=sss2)\n",
    "\n",
    "# Fit the grid search object to the training data and find the optimal parameters\n",
    "grid_obj = grid_obj.fit(X_train, y_train)\n",
    "\n",
    "# Get the estimator\n",
    "clf = grid_obj.best_estimator_\n",
    "\n",
    "# Report the final F1 score for training and testing after parameter tuning\n",
    "print \"Tuned model has a training F1 score of {:.4f}.\".format(predict_labels(clf, X_train, y_train))\n",
    "print \"Tuned model has a testing F1 score of {:.4f}.\".format(predict_labels(clf, X_test, y_test))"
   ]
  },
  {
   "cell_type": "markdown",
   "metadata": {},
   "source": [
    "### Final F<sub>1</sub> Score Analysis"
   ]
  },
  {
   "cell_type": "markdown",
   "metadata": {},
   "source": [
    "The final model's training F1 score is 0.8238 which is lower than the untuned model's 0.8615. However, the final model's testing F1 score is 0.8212 which is higher than the untuned model's 0.8105. Even though the final model's F1 score for training is lower, its higher F1 testing score makes it a more generalizable model (provides better predictions) to unseen data than the untuned model (the final tuned model has C = 100.0 and gamma = 0.0001, class_weight = None)."
   ]
  }
 ],
 "metadata": {
  "anaconda-cloud": {},
  "kernelspec": {
   "display_name": "Python 2",
   "language": "python",
   "name": "python2"
  },
  "language_info": {
   "codemirror_mode": {
    "name": "ipython",
    "version": 2
   },
   "file_extension": ".py",
   "mimetype": "text/x-python",
   "name": "python",
   "nbconvert_exporter": "python",
   "pygments_lexer": "ipython2",
   "version": "2.7.14"
  }
 },
 "nbformat": 4,
 "nbformat_minor": 1
}
